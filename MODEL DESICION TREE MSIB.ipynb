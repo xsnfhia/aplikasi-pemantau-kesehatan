{
 "cells": [
  {
   "cell_type": "code",
   "execution_count": 11,
   "id": "56923ba0-a89f-4a56-af12-b6a23c990410",
   "metadata": {},
   "outputs": [
    {
     "name": "stdout",
     "output_type": "stream",
     "text": [
      "      Height  Weight     Sex\n",
      "0     165.65   35.41  Female\n",
      "1     148.53   74.45  Female\n",
      "2     167.04   81.22    Male\n",
      "3     161.54   71.47    Male\n",
      "4     174.31   78.18    Male\n",
      "...      ...     ...     ...\n",
      "2995  150.83   49.66  Female\n",
      "2996  157.09   64.34  Female\n",
      "2997  162.99   45.58  Female\n",
      "2998  154.76   48.92  Female\n",
      "2999  185.08   82.74    Male\n",
      "\n",
      "[3000 rows x 3 columns]\n"
     ]
    }
   ],
   "source": [
    "import pandas as pd\n",
    "\n",
    "df = pd.read_csv('Training set.csv') \n",
    "\n",
    "print(df)"
   ]
  },
  {
   "cell_type": "code",
   "execution_count": 15,
   "id": "724932f7-63e0-4c9f-92b0-129962c71422",
   "metadata": {},
   "outputs": [
    {
     "name": "stdout",
     "output_type": "stream",
     "text": [
      "      Height  Weight  Sex\n",
      "0       1400      22    0\n",
      "1        570    1501    0\n",
      "2       1468    1800    1\n",
      "3       1203    1340    1\n",
      "4       1837    1679    1\n",
      "...      ...     ...  ...\n",
      "2995     680     265    0\n",
      "2996     977     959    0\n",
      "2997    1276     162    0\n",
      "2998     859     243    0\n",
      "2999    2215    1846    1\n",
      "\n",
      "[3000 rows x 3 columns]\n"
     ]
    }
   ],
   "source": [
    "from sklearn.preprocessing import LabelEncoder\n",
    "\n",
    "label_encoders = {}\n",
    "for column in df.columns:\n",
    "    le = LabelEncoder()\n",
    "    df[column] = le.fit_transform(df[column])\n",
    "    label_encoders[column] = le\n",
    "\n",
    "print(df)"
   ]
  },
  {
   "cell_type": "code",
   "execution_count": 17,
   "id": "09c09d08-2f19-43dd-93eb-41da6218e214",
   "metadata": {},
   "outputs": [
    {
     "name": "stdout",
     "output_type": "stream",
     "text": [
      "      Height  Weight\n",
      "0       1400      22\n",
      "1        570    1501\n",
      "2       1468    1800\n",
      "3       1203    1340\n",
      "4       1837    1679\n",
      "...      ...     ...\n",
      "2995     680     265\n",
      "2996     977     959\n",
      "2997    1276     162\n",
      "2998     859     243\n",
      "2999    2215    1846\n",
      "\n",
      "[3000 rows x 2 columns]\n",
      "0       0\n",
      "1       0\n",
      "2       1\n",
      "3       1\n",
      "4       1\n",
      "       ..\n",
      "2995    0\n",
      "2996    0\n",
      "2997    0\n",
      "2998    0\n",
      "2999    1\n",
      "Name: Sex, Length: 3000, dtype: int32\n"
     ]
    }
   ],
   "source": [
    "X = df[['Height', 'Weight']]\n",
    "y = df['Sex']\n",
    "\n",
    "print(X)\n",
    "print(y)"
   ]
  },
  {
   "cell_type": "code",
   "execution_count": 19,
   "id": "24e2e549-37ab-48ab-a2e2-2e9fb1cd0db2",
   "metadata": {},
   "outputs": [
    {
     "name": "stdout",
     "output_type": "stream",
     "text": [
      "jumlah data training =  (2100, 2)\n",
      "jumlah daa testing =  (900, 2)\n"
     ]
    }
   ],
   "source": [
    "from sklearn.model_selection import train_test_split\n",
    "\n",
    "X_train, X_test, y_train, y_test = train_test_split(X, y, test_size=0.3, random_state=42)\n",
    "\n",
    "print(\"jumlah data training = \", X_train.shape)\n",
    "print(\"jumlah daa testing = \", X_test.shape)"
   ]
  },
  {
   "cell_type": "code",
   "execution_count": 23,
   "id": "cd0bb777-c62f-4d64-8966-c3a88f9b6e24",
   "metadata": {},
   "outputs": [
    {
     "data": {
      "text/html": [
       "<div>\n",
       "<style scoped>\n",
       "    .dataframe tbody tr th:only-of-type {\n",
       "        vertical-align: middle;\n",
       "    }\n",
       "\n",
       "    .dataframe tbody tr th {\n",
       "        vertical-align: top;\n",
       "    }\n",
       "\n",
       "    .dataframe thead th {\n",
       "        text-align: right;\n",
       "    }\n",
       "</style>\n",
       "<table border=\"1\" class=\"dataframe\">\n",
       "  <thead>\n",
       "    <tr style=\"text-align: right;\">\n",
       "      <th></th>\n",
       "      <th>Height</th>\n",
       "      <th>Weight</th>\n",
       "    </tr>\n",
       "  </thead>\n",
       "  <tbody>\n",
       "    <tr>\n",
       "      <th>0</th>\n",
       "      <td>1400</td>\n",
       "      <td>22</td>\n",
       "    </tr>\n",
       "    <tr>\n",
       "      <th>1</th>\n",
       "      <td>570</td>\n",
       "      <td>1501</td>\n",
       "    </tr>\n",
       "    <tr>\n",
       "      <th>2</th>\n",
       "      <td>1468</td>\n",
       "      <td>1800</td>\n",
       "    </tr>\n",
       "    <tr>\n",
       "      <th>3</th>\n",
       "      <td>1203</td>\n",
       "      <td>1340</td>\n",
       "    </tr>\n",
       "    <tr>\n",
       "      <th>4</th>\n",
       "      <td>1837</td>\n",
       "      <td>1679</td>\n",
       "    </tr>\n",
       "    <tr>\n",
       "      <th>...</th>\n",
       "      <td>...</td>\n",
       "      <td>...</td>\n",
       "    </tr>\n",
       "    <tr>\n",
       "      <th>2995</th>\n",
       "      <td>680</td>\n",
       "      <td>265</td>\n",
       "    </tr>\n",
       "    <tr>\n",
       "      <th>2996</th>\n",
       "      <td>977</td>\n",
       "      <td>959</td>\n",
       "    </tr>\n",
       "    <tr>\n",
       "      <th>2997</th>\n",
       "      <td>1276</td>\n",
       "      <td>162</td>\n",
       "    </tr>\n",
       "    <tr>\n",
       "      <th>2998</th>\n",
       "      <td>859</td>\n",
       "      <td>243</td>\n",
       "    </tr>\n",
       "    <tr>\n",
       "      <th>2999</th>\n",
       "      <td>2215</td>\n",
       "      <td>1846</td>\n",
       "    </tr>\n",
       "  </tbody>\n",
       "</table>\n",
       "<p>3000 rows × 2 columns</p>\n",
       "</div>"
      ],
      "text/plain": [
       "      Height  Weight\n",
       "0       1400      22\n",
       "1        570    1501\n",
       "2       1468    1800\n",
       "3       1203    1340\n",
       "4       1837    1679\n",
       "...      ...     ...\n",
       "2995     680     265\n",
       "2996     977     959\n",
       "2997    1276     162\n",
       "2998     859     243\n",
       "2999    2215    1846\n",
       "\n",
       "[3000 rows x 2 columns]"
      ]
     },
     "execution_count": 23,
     "metadata": {},
     "output_type": "execute_result"
    }
   ],
   "source": [
    "X"
   ]
  },
  {
   "cell_type": "code",
   "execution_count": 25,
   "id": "315f64b8-e6ef-409c-84f0-10cd10ef5bae",
   "metadata": {},
   "outputs": [
    {
     "data": {
      "text/plain": [
       "0       0\n",
       "1       0\n",
       "2       1\n",
       "3       1\n",
       "4       1\n",
       "       ..\n",
       "2995    0\n",
       "2996    0\n",
       "2997    0\n",
       "2998    0\n",
       "2999    1\n",
       "Name: Sex, Length: 3000, dtype: int32"
      ]
     },
     "execution_count": 25,
     "metadata": {},
     "output_type": "execute_result"
    }
   ],
   "source": [
    "y"
   ]
  },
  {
   "cell_type": "code",
   "execution_count": 37,
   "id": "8191e16a-137c-494b-8099-701b735f54ba",
   "metadata": {},
   "outputs": [
    {
     "name": "stdout",
     "output_type": "stream",
     "text": [
      "Akurasi Decision Tree: 0.812\n",
      "              precision    recall  f1-score   support\n",
      "\n",
      "           0       0.82      0.82      0.82       383\n",
      "           1       0.81      0.81      0.81       367\n",
      "\n",
      "    accuracy                           0.81       750\n",
      "   macro avg       0.81      0.81      0.81       750\n",
      "weighted avg       0.81      0.81      0.81       750\n",
      "\n"
     ]
    }
   ],
   "source": [
    "from sklearn.model_selection import train_test_split\n",
    "from sklearn.tree import DecisionTreeClassifier\n",
    "from sklearn.metrics import accuracy_score, classification_report\n",
    "import pandas as pd\n",
    "from sklearn.preprocessing import LabelEncoder\n",
    "\n",
    "df = pd.read_csv('Training set.csv') \n",
    "\n",
    "le = LabelEncoder()\n",
    "df['Sex'] = le.fit_transform(df['Sex'])\n",
    "\n",
    "X = df[['Height', 'Weight']]  \n",
    "y = df['Sex'] \n",
    "\n",
    "X_train, X_test, y_train, y_test = train_test_split(X, y, test_size=0.25, random_state=42)\n",
    "\n",
    "dt_model = DecisionTreeClassifier(random_state=42)\n",
    "dt_model.fit(X_train, y_train)\n",
    "\n",
    "y_pred_dt = dt_model.predict(X_test)\n",
    "\n",
    "print(\"Akurasi Decision Tree:\", accuracy_score(y_test, y_pred_dt))\n",
    "print(classification_report(y_test, y_pred_dt))"
   ]
  },
  {
   "cell_type": "code",
   "execution_count": 49,
   "id": "d43c1711-7a4f-4574-a955-d227722b166c",
   "metadata": {},
   "outputs": [
    {
     "name": "stdout",
     "output_type": "stream",
     "text": [
      "Akurasi Decision Tree: 80.93333333333334\n",
      "              precision    recall  f1-score   support\n",
      "\n",
      "           0       0.82      0.80      0.81       383\n",
      "           1       0.80      0.82      0.81       367\n",
      "\n",
      "    accuracy                           0.81       750\n",
      "   macro avg       0.81      0.81      0.81       750\n",
      "weighted avg       0.81      0.81      0.81       750\n",
      "\n",
      "Prediksi dari model yang dimuat: [0 1 1 1 0 1 0 1 1 1 0 0 1 0 1 0 0 1 1 1 0 0 0 0 1 1 0 1 1 1 0 0 1 0 0 0 0\n",
      " 0 1 0 0 0 0 0 1 1 1 1 0 1 1 0 1 0 0 1 1 1 1 1 0 1 1 1 0 1 1 0 0 0 0 1 0 0\n",
      " 1 1 0 1 1 0 0 0 1 0 1 0 1 1 0 1 1 1 0 1 0 0 1 0 1 0 1 0 1 1 1 1 0 0 1 0 1\n",
      " 0 0 1 1 0 1 1 0 1 1 0 1 1 0 0 1 0 0 1 0 1 0 1 1 0 0 0 1 0 1 0 1 0 1 0 0 1\n",
      " 1 0 0 0 0 0 1 1 0 0 0 0 0 0 1 1 1 0 0 0 0 0 0 0 0 0 1 1 0 1 1 0 1 1 1 0 0\n",
      " 0 1 0 0 1 0 0 0 1 1 0 1 1 1 1 1 0 0 0 0 1 1 1 1 1 1 1 1 0 0 1 0 0 0 0 1 1\n",
      " 1 1 0 0 1 0 1 0 1 0 1 1 1 1 0 1 0 0 0 0 0 0 1 0 1 1 1 1 0 0 0 0 1 0 1 1 1\n",
      " 1 0 0 1 0 1 0 1 0 0 0 0 0 0 0 1 0 0 1 0 1 1 0 1 1 0 1 1 1 1 0 0 1 1 0 0 0\n",
      " 1 0 0 1 1 0 1 1 1 0 1 0 1 0 0 0 1 0 0 0 0 1 0 0 1 1 1 1 0 1 1 0 0 0 0 0 0\n",
      " 0 1 1 0 0 1 0 0 0 0 1 0 1 0 1 1 0 1 0 0 0 1 1 1 0 1 1 1 1 0 1 1 0 1 1 1 1\n",
      " 0 1 0 1 1 0 1 0 0 1 1 1 1 0 0 1 0 1 1 1 0 1 0 1 1 0 0 1 1 0 1 1 1 1 0 0 1\n",
      " 1 1 0 1 1 0 0 0 0 1 1 0 1 1 1 1 0 1 0 0 1 0 0 0 0 0 0 1 1 0 0 1 1 0 1 1 0\n",
      " 1 1 0 1 0 1 0 0 0 1 0 1 1 0 0 1 0 1 1 0 0 0 1 0 0 0 1 0 0 1 1 1 0 1 1 1 1\n",
      " 0 0 1 0 0 1 0 0 1 0 0 1 0 0 0 1 0 1 0 1 0 1 1 0 1 1 0 1 0 0 1 0 0 1 0 1 1\n",
      " 1 0 0 0 1 1 1 0 1 0 0 1 1 0 0 1 0 0 0 1 1 0 1 0 0 0 0 1 1 1 1 0 0 0 1 0 0\n",
      " 0 1 0 0 0 1 1 0 0 1 0 0 0 0 1 0 0 0 0 0 0 1 1 0 1 0 1 1 0 1 1 0 0 0 0 0 0\n",
      " 1 0 1 1 1 0 1 0 1 1 1 1 1 0 0 1 0 1 1 1 0 1 0 0 0 0 0 0 1 1 0 1 1 1 0 0 1\n",
      " 0 1 1 0 1 1 1 0 1 1 1 1 1 0 1 0 1 1 0 0 1 0 1 1 1 0 1 1 1 1 1 1 0 0 1 0 0\n",
      " 0 0 1 1 0 1 0 0 0 1 0 1 1 0 0 1 1 0 1 1 1 1 0 1 0 0 0 1 0 0 0 1 1 0 1 1 1\n",
      " 0 1 1 1 0 1 0 0 1 1 0 1 0 0 1 1 1 1 1 0 1 1 1 1 1 0 1 1 0 1 1 1 0 1 1 0 0\n",
      " 0 1 0 0 1 0 1 1 0 0]\n",
      "   Height  Weight       BMI\n",
      "0  165.65   35.41  0.907279\n",
      "1  148.53   74.45  2.372653\n",
      "2  167.04   81.22  2.046539\n",
      "3  161.54   71.47  1.925580\n",
      "4  174.31   78.18  1.809044\n"
     ]
    }
   ],
   "source": [
    "import pandas as pd\n",
    "from sklearn.tree import DecisionTreeClassifier\n",
    "from sklearn.model_selection import train_test_split\n",
    "from sklearn.preprocessing import LabelEncoder\n",
    "from sklearn.metrics import accuracy_score, classification_report\n",
    "import joblib\n",
    "\n",
    "df = pd.read_csv('Training set.csv') \n",
    "\n",
    "le = LabelEncoder()\n",
    "df['Sex'] = le.fit_transform(df['Sex'])\n",
    "\n",
    "def calculate_bmi(row):\n",
    "    height_m = row['Height'] * 0.0254 \n",
    "    weight_kg = row['Weight'] * 0.453592  \n",
    "    bmi = weight_kg / (height_m ** 2)  \n",
    "    return bmi\n",
    "\n",
    "df['BMI'] = df.apply(calculate_bmi, axis=1)\n",
    "\n",
    "X = df[['Height', 'Weight', 'BMI']]  \n",
    "y = df['Sex']  \n",
    "\n",
    "X_train, X_test, y_train, y_test = train_test_split(X, y, test_size=0.25, random_state=42)\n",
    "\n",
    "dt_model = DecisionTreeClassifier(random_state=42)\n",
    "dt_model.fit(X_train, y_train)\n",
    "\n",
    "y_pred_dt = dt_model.predict(X_test)\n",
    "\n",
    "print(\"Akurasi Decision Tree:\", accuracy_score(y_test, y_pred_dt) * 100)\n",
    "\n",
    "print(classification_report(y_test, y_pred_dt))\n",
    "\n",
    "joblib.dump(dt_model, 'models/decision_tree_model.pkl')\n",
    "\n",
    "loaded_model = joblib.load('models/decision_tree_model.pkl')\n",
    "\n",
    "new_predictions = loaded_model.predict(X_test)\n",
    "print(\"Prediksi dari model yang dimuat:\", new_predictions)\n",
    "\n",
    "print(df[['Height', 'Weight', 'BMI']].head())"
   ]
  },
  {
   "cell_type": "code",
   "execution_count": null,
   "id": "d603ab70-bf71-4d98-a464-5b2440e5573c",
   "metadata": {},
   "outputs": [],
   "source": []
  }
 ],
 "metadata": {
  "kernelspec": {
   "display_name": "Python 3 (ipykernel)",
   "language": "python",
   "name": "python3"
  },
  "language_info": {
   "codemirror_mode": {
    "name": "ipython",
    "version": 3
   },
   "file_extension": ".py",
   "mimetype": "text/x-python",
   "name": "python",
   "nbconvert_exporter": "python",
   "pygments_lexer": "ipython3",
   "version": "3.12.4"
  }
 },
 "nbformat": 4,
 "nbformat_minor": 5
}

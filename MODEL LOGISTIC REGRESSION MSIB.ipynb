{
 "cells": [
  {
   "cell_type": "code",
   "execution_count": 3,
   "id": "1be5a0c0-dd24-48b2-aebb-3c31983a1dcf",
   "metadata": {},
   "outputs": [
    {
     "name": "stdout",
     "output_type": "stream",
     "text": [
      "      age  sex  cp  trestbps  chol  fbs  restecg  thalach  exang  oldpeak  \\\n",
      "0      52    1   0       125   212    0        1      168      0      1.0   \n",
      "1      53    1   0       140   203    1        0      155      1      3.1   \n",
      "2      70    1   0       145   174    0        1      125      1      2.6   \n",
      "3      61    1   0       148   203    0        1      161      0      0.0   \n",
      "4      62    0   0       138   294    1        1      106      0      1.9   \n",
      "...   ...  ...  ..       ...   ...  ...      ...      ...    ...      ...   \n",
      "1020   59    1   1       140   221    0        1      164      1      0.0   \n",
      "1021   60    1   0       125   258    0        0      141      1      2.8   \n",
      "1022   47    1   0       110   275    0        0      118      1      1.0   \n",
      "1023   50    0   0       110   254    0        0      159      0      0.0   \n",
      "1024   54    1   0       120   188    0        1      113      0      1.4   \n",
      "\n",
      "      slope  ca  thal  target  \n",
      "0         2   2     3       0  \n",
      "1         0   0     3       0  \n",
      "2         0   0     3       0  \n",
      "3         2   1     3       0  \n",
      "4         1   3     2       0  \n",
      "...     ...  ..   ...     ...  \n",
      "1020      2   0     2       1  \n",
      "1021      1   1     3       0  \n",
      "1022      1   1     2       0  \n",
      "1023      2   0     2       1  \n",
      "1024      1   1     3       0  \n",
      "\n",
      "[1025 rows x 14 columns]\n"
     ]
    }
   ],
   "source": [
    "import pandas as pd\n",
    "\n",
    "df = pd.read_csv('Heart.csv')\n",
    "\n",
    "print(df)"
   ]
  },
  {
   "cell_type": "code",
   "execution_count": 5,
   "id": "92bba87f-4835-494e-93e2-8524624c5aef",
   "metadata": {},
   "outputs": [
    {
     "name": "stdout",
     "output_type": "stream",
     "text": [
      "      age  sex  cp  trestbps  chol  fbs  restecg  thalach  exang  oldpeak  \\\n",
      "0      18    1   0        18    43    0        1       67      0       10   \n",
      "1      19    1   0        28    34    1        0       54      1       29   \n",
      "2      36    1   0        31    12    0        1       25      1       25   \n",
      "3      27    1   0        33    34    0        1       60      0        0   \n",
      "4      28    0   0        27   116    1        1        9      0       18   \n",
      "...   ...  ...  ..       ...   ...  ...      ...      ...    ...      ...   \n",
      "1020   25    1   1        28    52    0        1       63      1        0   \n",
      "1021   26    1   0        18    87    0        0       40      1       26   \n",
      "1022   13    1   0         8   103    0        0       19      1       10   \n",
      "1023   16    0   0         8    83    0        0       58      0        0   \n",
      "1024   20    1   0        14    24    0        1       14      0       14   \n",
      "\n",
      "      slope  ca  thal  target  \n",
      "0         2   2     3       0  \n",
      "1         0   0     3       0  \n",
      "2         0   0     3       0  \n",
      "3         2   1     3       0  \n",
      "4         1   3     2       0  \n",
      "...     ...  ..   ...     ...  \n",
      "1020      2   0     2       1  \n",
      "1021      1   1     3       0  \n",
      "1022      1   1     2       0  \n",
      "1023      2   0     2       1  \n",
      "1024      1   1     3       0  \n",
      "\n",
      "[1025 rows x 14 columns]\n"
     ]
    }
   ],
   "source": [
    "from sklearn.preprocessing import LabelEncoder\n",
    "\n",
    "label_encoders = {}\n",
    "for column in df.columns:\n",
    "    le = LabelEncoder()\n",
    "    df[column] = le.fit_transform(df[column])\n",
    "    label_encoders[column] = le\n",
    "\n",
    "print(df)"
   ]
  },
  {
   "cell_type": "code",
   "execution_count": 7,
   "id": "78665e4b-0536-4f88-86d1-f5b04330ecf4",
   "metadata": {},
   "outputs": [
    {
     "name": "stdout",
     "output_type": "stream",
     "text": [
      "      age  sex  cp  chol  thalach  oldpeak\n",
      "0      18    1   0    43       67       10\n",
      "1      19    1   0    34       54       29\n",
      "2      36    1   0    12       25       25\n",
      "3      27    1   0    34       60        0\n",
      "4      28    0   0   116        9       18\n",
      "...   ...  ...  ..   ...      ...      ...\n",
      "1020   25    1   1    52       63        0\n",
      "1021   26    1   0    87       40       26\n",
      "1022   13    1   0   103       19       10\n",
      "1023   16    0   0    83       58        0\n",
      "1024   20    1   0    24       14       14\n",
      "\n",
      "[1025 rows x 6 columns]\n",
      "0       0\n",
      "1       0\n",
      "2       0\n",
      "3       0\n",
      "4       0\n",
      "       ..\n",
      "1020    1\n",
      "1021    0\n",
      "1022    0\n",
      "1023    1\n",
      "1024    0\n",
      "Name: target, Length: 1025, dtype: int64\n"
     ]
    }
   ],
   "source": [
    "X = df[['age', 'sex', 'cp', 'chol', 'thalach', 'oldpeak']] \n",
    "y = df['target'] \n",
    "\n",
    "print(X)\n",
    "print(y)"
   ]
  },
  {
   "cell_type": "code",
   "execution_count": 9,
   "id": "1aebb3e4-8621-4fa7-8858-f86921b7ab9e",
   "metadata": {},
   "outputs": [
    {
     "name": "stdout",
     "output_type": "stream",
     "text": [
      "jumlah data training =  (768, 6)\n",
      "jumlah daa testing =  (257, 6)\n"
     ]
    }
   ],
   "source": [
    "from sklearn.model_selection import train_test_split\n",
    "\n",
    "X_train, X_test, y_train, y_test = train_test_split(X, y, test_size=0.25, random_state=42)\n",
    "\n",
    "print(\"jumlah data training = \", X_train.shape)\n",
    "print(\"jumlah daa testing = \", X_test.shape)"
   ]
  },
  {
   "cell_type": "code",
   "execution_count": 11,
   "id": "54f2a430-2ae5-4a21-8601-677b44c42729",
   "metadata": {},
   "outputs": [
    {
     "data": {
      "text/html": [
       "<div>\n",
       "<style scoped>\n",
       "    .dataframe tbody tr th:only-of-type {\n",
       "        vertical-align: middle;\n",
       "    }\n",
       "\n",
       "    .dataframe tbody tr th {\n",
       "        vertical-align: top;\n",
       "    }\n",
       "\n",
       "    .dataframe thead th {\n",
       "        text-align: right;\n",
       "    }\n",
       "</style>\n",
       "<table border=\"1\" class=\"dataframe\">\n",
       "  <thead>\n",
       "    <tr style=\"text-align: right;\">\n",
       "      <th></th>\n",
       "      <th>age</th>\n",
       "      <th>sex</th>\n",
       "      <th>cp</th>\n",
       "      <th>chol</th>\n",
       "      <th>thalach</th>\n",
       "      <th>oldpeak</th>\n",
       "    </tr>\n",
       "  </thead>\n",
       "  <tbody>\n",
       "    <tr>\n",
       "      <th>0</th>\n",
       "      <td>18</td>\n",
       "      <td>1</td>\n",
       "      <td>0</td>\n",
       "      <td>43</td>\n",
       "      <td>67</td>\n",
       "      <td>10</td>\n",
       "    </tr>\n",
       "    <tr>\n",
       "      <th>1</th>\n",
       "      <td>19</td>\n",
       "      <td>1</td>\n",
       "      <td>0</td>\n",
       "      <td>34</td>\n",
       "      <td>54</td>\n",
       "      <td>29</td>\n",
       "    </tr>\n",
       "    <tr>\n",
       "      <th>2</th>\n",
       "      <td>36</td>\n",
       "      <td>1</td>\n",
       "      <td>0</td>\n",
       "      <td>12</td>\n",
       "      <td>25</td>\n",
       "      <td>25</td>\n",
       "    </tr>\n",
       "    <tr>\n",
       "      <th>3</th>\n",
       "      <td>27</td>\n",
       "      <td>1</td>\n",
       "      <td>0</td>\n",
       "      <td>34</td>\n",
       "      <td>60</td>\n",
       "      <td>0</td>\n",
       "    </tr>\n",
       "    <tr>\n",
       "      <th>4</th>\n",
       "      <td>28</td>\n",
       "      <td>0</td>\n",
       "      <td>0</td>\n",
       "      <td>116</td>\n",
       "      <td>9</td>\n",
       "      <td>18</td>\n",
       "    </tr>\n",
       "    <tr>\n",
       "      <th>...</th>\n",
       "      <td>...</td>\n",
       "      <td>...</td>\n",
       "      <td>...</td>\n",
       "      <td>...</td>\n",
       "      <td>...</td>\n",
       "      <td>...</td>\n",
       "    </tr>\n",
       "    <tr>\n",
       "      <th>1020</th>\n",
       "      <td>25</td>\n",
       "      <td>1</td>\n",
       "      <td>1</td>\n",
       "      <td>52</td>\n",
       "      <td>63</td>\n",
       "      <td>0</td>\n",
       "    </tr>\n",
       "    <tr>\n",
       "      <th>1021</th>\n",
       "      <td>26</td>\n",
       "      <td>1</td>\n",
       "      <td>0</td>\n",
       "      <td>87</td>\n",
       "      <td>40</td>\n",
       "      <td>26</td>\n",
       "    </tr>\n",
       "    <tr>\n",
       "      <th>1022</th>\n",
       "      <td>13</td>\n",
       "      <td>1</td>\n",
       "      <td>0</td>\n",
       "      <td>103</td>\n",
       "      <td>19</td>\n",
       "      <td>10</td>\n",
       "    </tr>\n",
       "    <tr>\n",
       "      <th>1023</th>\n",
       "      <td>16</td>\n",
       "      <td>0</td>\n",
       "      <td>0</td>\n",
       "      <td>83</td>\n",
       "      <td>58</td>\n",
       "      <td>0</td>\n",
       "    </tr>\n",
       "    <tr>\n",
       "      <th>1024</th>\n",
       "      <td>20</td>\n",
       "      <td>1</td>\n",
       "      <td>0</td>\n",
       "      <td>24</td>\n",
       "      <td>14</td>\n",
       "      <td>14</td>\n",
       "    </tr>\n",
       "  </tbody>\n",
       "</table>\n",
       "<p>1025 rows × 6 columns</p>\n",
       "</div>"
      ],
      "text/plain": [
       "      age  sex  cp  chol  thalach  oldpeak\n",
       "0      18    1   0    43       67       10\n",
       "1      19    1   0    34       54       29\n",
       "2      36    1   0    12       25       25\n",
       "3      27    1   0    34       60        0\n",
       "4      28    0   0   116        9       18\n",
       "...   ...  ...  ..   ...      ...      ...\n",
       "1020   25    1   1    52       63        0\n",
       "1021   26    1   0    87       40       26\n",
       "1022   13    1   0   103       19       10\n",
       "1023   16    0   0    83       58        0\n",
       "1024   20    1   0    24       14       14\n",
       "\n",
       "[1025 rows x 6 columns]"
      ]
     },
     "execution_count": 11,
     "metadata": {},
     "output_type": "execute_result"
    }
   ],
   "source": [
    "X"
   ]
  },
  {
   "cell_type": "code",
   "execution_count": 13,
   "id": "2d40c2eb-b3f1-43fb-ad38-151feafe76db",
   "metadata": {},
   "outputs": [
    {
     "data": {
      "text/plain": [
       "0       0\n",
       "1       0\n",
       "2       0\n",
       "3       0\n",
       "4       0\n",
       "       ..\n",
       "1020    1\n",
       "1021    0\n",
       "1022    0\n",
       "1023    1\n",
       "1024    0\n",
       "Name: target, Length: 1025, dtype: int64"
      ]
     },
     "execution_count": 13,
     "metadata": {},
     "output_type": "execute_result"
    }
   ],
   "source": [
    "y"
   ]
  },
  {
   "cell_type": "code",
   "execution_count": 15,
   "id": "55f740a3-c7b5-4448-8002-ade2d99f1e5c",
   "metadata": {},
   "outputs": [
    {
     "name": "stdout",
     "output_type": "stream",
     "text": [
      "prediksi pertama : [0.81132032 0.9119385  0.23521384 0.76108947 0.45101136]\n"
     ]
    }
   ],
   "source": [
    "from sklearn.linear_model import LinearRegression\n",
    "\n",
    "lr_model = LinearRegression()\n",
    "lr_model.fit(X_train, y_train)\n",
    "\n",
    "y_pred = lr_model.predict(X_test)\n",
    "\n",
    "print(f\"prediksi pertama : {y_pred[:5]}\")"
   ]
  },
  {
   "cell_type": "code",
   "execution_count": 17,
   "id": "e76a0bb4-c29e-461f-bca9-d56f7df4ad01",
   "metadata": {},
   "outputs": [
    {
     "name": "stdout",
     "output_type": "stream",
     "text": [
      "Mean Absolute Error: 0.3244784793913822\n",
      "Mean Squared Error: 0.15798111959099478\n",
      "R-squared: 0.36760636558390214\n"
     ]
    }
   ],
   "source": [
    "from sklearn.metrics import mean_absolute_error, mean_squared_error, r2_score\n",
    "\n",
    "mae = mean_absolute_error(y_test, y_pred)\n",
    "mse = mean_squared_error(y_test, y_pred)\n",
    "r2 = r2_score(y_test, y_pred)\n",
    "\n",
    "print(f\"Mean Absolute Error: {mae}\")\n",
    "print(f\"Mean Squared Error: {mse}\")\n",
    "print(f\"R-squared: {r2}\")"
   ]
  },
  {
   "cell_type": "code",
   "execution_count": 19,
   "id": "e183eb49-98a9-47d7-8916-33904d8be2db",
   "metadata": {},
   "outputs": [
    {
     "name": "stdout",
     "output_type": "stream",
     "text": [
      "<class 'pandas.core.frame.DataFrame'>\n",
      "RangeIndex: 1025 entries, 0 to 1024\n",
      "Data columns (total 14 columns):\n",
      " #   Column    Non-Null Count  Dtype  \n",
      "---  ------    --------------  -----  \n",
      " 0   age       1025 non-null   int64  \n",
      " 1   sex       1025 non-null   int64  \n",
      " 2   cp        1025 non-null   int64  \n",
      " 3   trestbps  1025 non-null   int64  \n",
      " 4   chol      1025 non-null   int64  \n",
      " 5   fbs       1025 non-null   int64  \n",
      " 6   restecg   1025 non-null   int64  \n",
      " 7   thalach   1025 non-null   int64  \n",
      " 8   exang     1025 non-null   int64  \n",
      " 9   oldpeak   1025 non-null   float64\n",
      " 10  slope     1025 non-null   int64  \n",
      " 11  ca        1025 non-null   int64  \n",
      " 12  thal      1025 non-null   int64  \n",
      " 13  target    1025 non-null   int64  \n",
      "dtypes: float64(1), int64(13)\n",
      "memory usage: 112.2 KB\n",
      "None\n",
      "Mean Squared Error: 0.1461284425849516\n",
      "R^2 Score: 0.41505227246706244\n",
      "Prediksi dari model yang dimuat: [ 0.9439327   1.27741444  0.03702861  0.9410318   0.18132433  0.62611243\n",
      " -0.05667887 -0.13230254  0.75819267 -0.0109036   0.99002253 -0.22298477\n",
      "  0.77624361  0.76228497  0.24412137  0.86250478 -0.09520748  0.96717301\n",
      "  0.69750249 -0.03403763  0.72966213  0.16198362  0.53487129 -0.18071591\n",
      "  0.72966213  0.6238848   1.0061906   0.55941573 -0.15253215  0.82366555\n",
      "  0.64394615  0.75344058  0.487744    1.27741444  0.74887915  0.66764632\n",
      "  0.72966213  0.4900882   0.69439361  0.87007186 -0.13230254  0.17944757\n",
      "  0.52714603  0.53487129  0.31949291 -0.31577692  0.24633073  0.48716116\n",
      "  0.59898934  0.51820503  0.60264622 -0.19791862  0.66855539  0.01090465\n",
      "  1.0061906   0.69439361  0.40153013 -0.09860077  0.79290542  0.91273402\n",
      "  0.55016748  0.14292176 -0.15253215  0.51820503 -0.17765892  0.37560898\n",
      "  1.27808728  0.62172868 -0.31577692  1.11243895  0.6317041  -0.15253215\n",
      "  0.45881598  0.80947192  0.65154103  0.5980692  -0.05667887  0.81164031\n",
      "  0.56403616  0.76305912  0.33982952  0.38300911  0.15298076 -0.09081728\n",
      "  0.67783139 -0.18785826  0.99002253  0.30429624  0.33982952  0.82366555\n",
      "  0.52505926 -0.03403763  0.72684517  0.88407308  0.73328315  0.65071335\n",
      "  0.62172868  0.31461089 -0.28865611  0.04222914  0.46294207  0.15805384\n",
      "  0.69455209  0.65743545  0.19981865  0.80267682 -0.09860077  0.65579375\n",
      "  0.434408    1.01408974  0.79290542  1.01408974  1.07875516  0.2031549\n",
      "  0.7585768   1.05569155  0.72364899  0.82272917  0.89676507 -0.12523348\n",
      "  0.53501383  0.64157086 -0.1264854   0.29326329  0.25789843 -0.18071591\n",
      "  0.69552672  0.55943314  0.6317041   0.83037137  0.75344058 -0.28865611\n",
      "  1.12290351  0.46294207 -0.03331577  0.90530386  0.25879985  0.64157086\n",
      "  0.90530386  0.72364899  0.55077278  0.84046705  0.96753518  0.05163534\n",
      "  0.6717156   0.66222526  0.60264622  0.90034507  0.53242178  0.18250251\n",
      "  0.487744   -0.31577692  0.61560207  0.55077278  0.33156166  0.23656775\n",
      "  0.67595453  0.83037137  0.27720718  0.17944757  0.52714603  0.99085064\n",
      "  0.15805384  0.15805384  0.28296064  0.29285941  0.27285853  0.15065908\n",
      "  0.20890462  0.90034507  0.45881598  0.63125439  0.84322639 -0.22083565\n",
      "  0.90666141  1.27741444  0.95789891 -0.45010215  0.69455209  0.94065911\n",
      "  0.94599074 -0.10928303  0.75855778  0.66855539  0.68138507  0.89676507\n",
      "  0.74887915  0.79290542  0.61212427  0.94150369  0.97892217  0.56403616\n",
      "  0.71211254  0.66855539 -0.09860077  0.21961126  0.92010743 -0.05296393\n",
      "  0.89394197  0.96910265  0.54078882  0.81157707  0.96910265  0.1158588\n",
      "  0.42850206  0.55063661  0.59660114  1.13228767  0.42708041  0.64157086\n",
      "  0.81157707  0.20438489  1.12696075  0.52505926  0.23656775  0.26624008\n",
      "  0.56766659  0.27285853  0.60699066 -0.03331577  0.66655345  0.15298076\n",
      "  0.04222914  0.92061376  0.75708395  0.69987391  0.82272917  0.72014178\n",
      " -0.22298477  0.53501383  0.71211254  0.42246847  0.64457524  0.67595453\n",
      "  0.18250251 -0.05667887  0.32974147  0.35014337  0.95980599  0.59174832\n",
      "  0.48414988  0.68921468  1.22525278  0.19133685 -0.08719693  0.65579375\n",
      "  0.26726361  0.46294207  0.67523211  0.15498052  0.80947192 -0.0109036\n",
      "  0.41312694 -0.45010215  0.29326329  0.93983949  0.1376802 ]\n",
      "     Actual  Predicted\n",
      "527       1   0.943933\n",
      "359       1   1.277414\n",
      "447       0   0.037029\n",
      "31        1   0.941032\n",
      "621       0   0.181324\n"
     ]
    }
   ],
   "source": [
    "import pandas as pd\n",
    "from sklearn.linear_model import LinearRegression\n",
    "from sklearn.model_selection import train_test_split\n",
    "from sklearn.metrics import mean_squared_error, r2_score\n",
    "import joblib\n",
    "\n",
    "df = pd.read_csv('heart.csv')  \n",
    "\n",
    "print(df.info())\n",
    "\n",
    "X = df.drop(columns=['target'])  \n",
    "y = df['target'] \n",
    "\n",
    "X_train, X_test, y_train, y_test = train_test_split(X, y, test_size=0.25, random_state=42)\n",
    "\n",
    "lr_model = LinearRegression()\n",
    "lr_model.fit(X_train, y_train)\n",
    "\n",
    "y_pred_lr = lr_model.predict(X_test)\n",
    "\n",
    "print(\"Mean Squared Error:\", mean_squared_error(y_test, y_pred_lr))\n",
    "print(\"R^2 Score:\", r2_score(y_test, y_pred_lr))\n",
    "\n",
    "joblib.dump(lr_model, 'models/linear_regression_model.pkl')\n",
    "\n",
    "loaded_model = joblib.load('models/linear_regression_model.pkl')\n",
    "\n",
    "new_predictions = loaded_model.predict(X_test)\n",
    "print(\"Prediksi dari model yang dimuat:\", new_predictions)\n",
    "\n",
    "results = pd.DataFrame({'Actual': y_test, 'Predicted': y_pred_lr})\n",
    "print(results.head())"
   ]
  },
  {
   "cell_type": "code",
   "execution_count": 27,
   "id": "0ab5c7f9-dff2-4271-a10e-311feb347ed9",
   "metadata": {},
   "outputs": [
    {
     "name": "stdout",
     "output_type": "stream",
     "text": [
      "model berhasil disimpan\n"
     ]
    }
   ],
   "source": [
    "from sklearn.linear_model import LinearRegression\n",
    "import joblib\n",
    "import numpy as np\n",
    "import pandas as pd\n",
    "\n",
    "data = pd.read_csv(\"heart.csv\")  \n",
    "X = data[['age', 'trestbps', 'chol']]  \n",
    "y = data['target']  \n",
    "\n",
    "model = LinearRegression()\n",
    "model.fit(X, y)\n",
    "\n",
    "joblib.dump(model, 'models/linear_regression_model_with_3_features.pkl')\n",
    "\n",
    "print(\"model berhasil disimpan\")"
   ]
  },
  {
   "cell_type": "code",
   "execution_count": 31,
   "id": "99e09fd6-aede-4d68-a136-dee17b8a59ef",
   "metadata": {},
   "outputs": [
    {
     "name": "stdout",
     "output_type": "stream",
     "text": [
      "Model dan nama fitur berhasil disimpan!\n"
     ]
    }
   ],
   "source": [
    "import joblib\n",
    "from sklearn.linear_model import LinearRegression\n",
    "\n",
    "# Contoh data training\n",
    "import numpy as np\n",
    "import pandas as pd\n",
    "\n",
    "# Data dummy untuk ilustrasi\n",
    "data = pd.DataFrame({\n",
    "    'age': [20, 30, 40, 50],\n",
    "    'chol': [150, 200, 250, 300],\n",
    "    'trestbps': [120, 130, 140, 150],\n",
    "    'target': [0, 1, 0, 1]\n",
    "})\n",
    "\n",
    "# Fitur dan target\n",
    "X = data[['chol', 'trestbps', 'age']]\n",
    "y = data['target']\n",
    "\n",
    "# Training model\n",
    "model = LinearRegression()\n",
    "model.fit(X, y)\n",
    "\n",
    "# Nama fitur yang digunakan\n",
    "feature_names = X.columns.tolist()\n",
    "\n",
    "# Simpan model beserta nama fitur\n",
    "joblib.dump((model, feature_names), 'models/linear_regression_model_with_3_features.pkl')\n",
    "print(\"Model dan nama fitur berhasil disimpan!\")"
   ]
  },
  {
   "cell_type": "code",
   "execution_count": null,
   "id": "720c799d-8740-4b8a-b98b-1ded11caa699",
   "metadata": {},
   "outputs": [],
   "source": []
  }
 ],
 "metadata": {
  "kernelspec": {
   "display_name": "Python 3 (ipykernel)",
   "language": "python",
   "name": "python3"
  },
  "language_info": {
   "codemirror_mode": {
    "name": "ipython",
    "version": 3
   },
   "file_extension": ".py",
   "mimetype": "text/x-python",
   "name": "python",
   "nbconvert_exporter": "python",
   "pygments_lexer": "ipython3",
   "version": "3.12.4"
  }
 },
 "nbformat": 4,
 "nbformat_minor": 5
}
